{
 "cells": [
  {
   "cell_type": "code",
   "execution_count": 97,
   "metadata": {},
   "outputs": [
    {
     "data": {
      "text/plain": [
       "['The Hello World project is a time-honored tradition in computer programming. It is a simple exercise that gets you started when learning something new.\\n',\n",
       " 'Quick - when was the last time you had a successful book launch? Do you know how to repeat it? Can everyone in your group do the same? Is your whole company following the same playbook to successfully launch new books or? Not yet?']"
      ]
     },
     "execution_count": 97,
     "metadata": {},
     "output_type": "execute_result"
    }
   ],
   "source": [
    "file1=open(\"cmp1.txt\",\"r\")\n",
    "text1=file1.readlines()\n",
    "text1"
   ]
  },
  {
   "cell_type": "code",
   "execution_count": 98,
   "metadata": {},
   "outputs": [
    {
     "data": {
      "text/plain": [
       "['The Hello World project is a time-honored tradition in computer programming. It is a simple exercise that gets you started when learning something new for us.\\n',\n",
       " 'Quick - when was the last time you had a successful book launch? Do you know how to repeat it? Can everyone in your group do the same? Is your whole company following the same playbook to successfully launch new books? Not yet?']"
      ]
     },
     "execution_count": 98,
     "metadata": {},
     "output_type": "execute_result"
    }
   ],
   "source": [
    "file2=open(\"cmp2.txt\",\"r\")\n",
    "text2=file2.readlines()\n",
    "text2"
   ]
  },
  {
   "cell_type": "code",
   "execution_count": 28,
   "metadata": {},
   "outputs": [],
   "source": [
    "import nltk"
   ]
  },
  {
   "cell_type": "code",
   "execution_count": 29,
   "metadata": {},
   "outputs": [],
   "source": [
    "str1=''.join(text1)\n",
    "str2=''.join(text2)"
   ]
  },
  {
   "cell_type": "code",
   "execution_count": 30,
   "metadata": {},
   "outputs": [
    {
     "data": {
      "text/plain": [
       "'The Hello World project is a time-honored tradition in computer programming. It is a simple exercise that gets you started when learning something new.\\nQuick - when was the last time you had a successful book launch? Do you know how to repeat it? Can everyone in your group do the same? Is your whole company following the same playbook to successfully launch new books or? Not yet?'"
      ]
     },
     "execution_count": 30,
     "metadata": {},
     "output_type": "execute_result"
    }
   ],
   "source": [
    "str1"
   ]
  },
  {
   "cell_type": "code",
   "execution_count": 31,
   "metadata": {},
   "outputs": [
    {
     "data": {
      "text/plain": [
       "'The Hello World project is a time-honored tradition in computer programming. It is a simple exercise that gets you started when learning something new for us.\\nQuick - when was the last time you had a successful book launch? Do you know how to repeat it? Can everyone in your group do the same? Is your whole company following the same playbook to successfully launch new books? Not yet?'"
      ]
     },
     "execution_count": 31,
     "metadata": {},
     "output_type": "execute_result"
    }
   ],
   "source": [
    "str2"
   ]
  },
  {
   "cell_type": "code",
   "execution_count": 99,
   "metadata": {},
   "outputs": [],
   "source": [
    "# import re\n",
    "# sep_text1=re.split(' . | \\? ',str1)\n",
    "\n",
    "# print(str1)\n",
    "sep_text1=str1.split('.')\n",
    "# sep_text2=str2\n",
    "sep_text2=str2.split('.')\n",
    "# sep_text1"
   ]
  },
  {
   "cell_type": "code",
   "execution_count": 100,
   "metadata": {},
   "outputs": [
    {
     "data": {
      "text/plain": [
       "['The Hello World project is a time-honored tradition in computer programming',\n",
       " ' It is a simple exercise that gets you started when learning something new',\n",
       " '\\nQuick - when was the last time you had a successful book launch? Do you know how to repeat it? Can everyone in your group do the same? Is your whole company following the same playbook to successfully launch new books or? Not yet?']"
      ]
     },
     "execution_count": 100,
     "metadata": {},
     "output_type": "execute_result"
    }
   ],
   "source": [
    "# import re\n",
    "# print(re.split(' . ',sep_text1))\n",
    "# #print(re.split(' . | \\? ',sep_text2))\n",
    "sep_text1"
   ]
  },
  {
   "cell_type": "code",
   "execution_count": 92,
   "metadata": {},
   "outputs": [
    {
     "name": "stdout",
     "output_type": "stream",
     "text": [
      "['The quick brown', 'fox jumps', 'over the lazy dog.']\n"
     ]
    }
   ],
   "source": [
    "# import re\n",
    "# #text=str1\n",
    "# text = 'The quick brown? fox jumps . over the lazy dog.'\n",
    "# print(re.split('\\? | . ',text))\n"
   ]
  },
  {
   "cell_type": "code",
   "execution_count": 101,
   "metadata": {},
   "outputs": [
    {
     "data": {
      "text/plain": [
       "['The Hello World project is a time-honored tradition in computer programming',\n",
       " ' It is a simple exercise that gets you started when learning something new for us',\n",
       " '\\nQuick - when was the last time you had a successful book launch? Do you know how to repeat it? Can everyone in your group do the same? Is your whole company following the same playbook to successfully launch new books? Not yet?']"
      ]
     },
     "execution_count": 101,
     "metadata": {},
     "output_type": "execute_result"
    }
   ],
   "source": [
    "sep_text2"
   ]
  },
  {
   "cell_type": "code",
   "execution_count": 102,
   "metadata": {},
   "outputs": [],
   "source": [
    "counter=-1\n",
    "counter2=-1\n",
    "final_list=[]\n",
    "for i in sep_text1:\n",
    "    counter2=counter2+1\n",
    "    for j in sep_text2:\n",
    "        if i==j:\n",
    "            final_list.append(i)\n",
    "            counter=counter+1\n",
    "        \n"
   ]
  },
  {
   "cell_type": "code",
   "execution_count": 103,
   "metadata": {},
   "outputs": [
    {
     "data": {
      "text/plain": [
       "0"
      ]
     },
     "execution_count": 103,
     "metadata": {},
     "output_type": "execute_result"
    }
   ],
   "source": [
    "counter"
   ]
  },
  {
   "cell_type": "code",
   "execution_count": 104,
   "metadata": {},
   "outputs": [
    {
     "data": {
      "text/plain": [
       "2"
      ]
     },
     "execution_count": 104,
     "metadata": {},
     "output_type": "execute_result"
    }
   ],
   "source": [
    "counter2"
   ]
  },
  {
   "cell_type": "code",
   "execution_count": 46,
   "metadata": {},
   "outputs": [
    {
     "data": {
      "text/plain": [
       "[' Do you know how to repeat it',\n",
       " ' Can everyone in your group do the same',\n",
       " ' Not yet',\n",
       " '']"
      ]
     },
     "execution_count": 46,
     "metadata": {},
     "output_type": "execute_result"
    }
   ],
   "source": [
    "final_list"
   ]
  },
  {
   "cell_type": "code",
   "execution_count": 48,
   "metadata": {},
   "outputs": [
    {
     "name": "stdout",
     "output_type": "stream",
     "text": [
      "Plagarism persentage is :  60.0 %\n"
     ]
    }
   ],
   "source": [
    "percent=(counter*100)/counter2\n",
    "print (\"Plagarism persentage is : \",percent,\"%\")"
   ]
  },
  {
   "cell_type": "code",
   "execution_count": null,
   "metadata": {},
   "outputs": [],
   "source": []
  }
 ],
 "metadata": {
  "kernelspec": {
   "display_name": "Python 3",
   "language": "python",
   "name": "python3"
  },
  "language_info": {
   "codemirror_mode": {
    "name": "ipython",
    "version": 3
   },
   "file_extension": ".py",
   "mimetype": "text/x-python",
   "name": "python",
   "nbconvert_exporter": "python",
   "pygments_lexer": "ipython3",
   "version": "3.7.4"
  }
 },
 "nbformat": 4,
 "nbformat_minor": 4
}
